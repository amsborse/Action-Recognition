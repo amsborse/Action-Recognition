{
 "cells": [
  {
   "cell_type": "code",
   "execution_count": 5,
   "metadata": {},
   "outputs": [],
   "source": [
    "from __future__ import division\n",
    "import pandas as pd\n",
    "import cv2\n",
    "from matplotlib import pyplot as plt\n",
    "import os\n",
    "import matplotlib\n",
    "import numpy as np\n",
    "import random\n",
    "from numpy import linalg as LA\n",
    "from PIL import Image\n",
    "import sys\n",
    "import itertools\n",
    "from skimage import filters\n",
    "from scipy import ndimage\n",
    "# import tensorflow as tf\n",
    "# import keras"
   ]
  },
  {
   "cell_type": "code",
   "execution_count": 4,
   "metadata": {},
   "outputs": [],
   "source": [
    "cap = cv2.VideoCapture('test.avi')"
   ]
  },
  {
   "cell_type": "code",
   "execution_count": 5,
   "metadata": {},
   "outputs": [],
   "source": [
    "# while True:\n",
    "#     ret, frame = cap.read()\n",
    "#     gray = cv2.cvtColor(frame,cv2.COLOR_BGR2GRAY)\n",
    "#     cv2.imshow('frame',frame)\n",
    "#     cv2.imshow('grayF',gray)\n",
    "#     if cv2.waitKey(1) & 0xFF == ord('q'):\n",
    "#          break\n",
    "\n",
    "# cap.release()\n",
    "# cv2.destroyAllWindows()"
   ]
  },
  {
   "cell_type": "code",
   "execution_count": 2,
   "metadata": {},
   "outputs": [],
   "source": [
    "# import numpy as np\n",
    "# import cv2\n",
    "\n",
    "# cap = cv2.VideoCapture('test.avi')\n",
    "\n",
    "# while(cap.isOpened()):\n",
    "#     ret, frame = cap.read()\n",
    "\n",
    "#     gray = cv2.cvtColor(frame, cv2.COLOR_BGR2GRAY)\n",
    "\n",
    "#     cv2.imshow('frame',gray)\n",
    "#     if cv2.waitKey(1) & 0xFF == ord('q'):\n",
    "#         break\n",
    "\n",
    "# cap.release()\n",
    "# cv2.destroyAllWindows()"
   ]
  },
  {
   "cell_type": "code",
   "execution_count": 4,
   "metadata": {},
   "outputs": [
    {
     "name": "stdout",
     "output_type": "stream",
     "text": [
      "Creating..../data/frame0.jpg\n",
      "Creating..../data/frame1.jpg\n",
      "Creating..../data/frame2.jpg\n",
      "Creating..../data/frame3.jpg\n",
      "Creating..../data/frame4.jpg\n",
      "Creating..../data/frame5.jpg\n",
      "Creating..../data/frame6.jpg\n",
      "Creating..../data/frame7.jpg\n",
      "Creating..../data/frame8.jpg\n",
      "Creating..../data/frame9.jpg\n",
      "Creating..../data/frame10.jpg\n",
      "Creating..../data/frame11.jpg\n",
      "Creating..../data/frame12.jpg\n",
      "Creating..../data/frame13.jpg\n",
      "Creating..../data/frame14.jpg\n",
      "Creating..../data/frame15.jpg\n",
      "Creating..../data/frame16.jpg\n",
      "Creating..../data/frame17.jpg\n",
      "Creating..../data/frame18.jpg\n",
      "Creating..../data/frame19.jpg\n",
      "Creating..../data/frame20.jpg\n",
      "Creating..../data/frame21.jpg\n",
      "Creating..../data/frame22.jpg\n",
      "Creating..../data/frame23.jpg\n",
      "Creating..../data/frame24.jpg\n",
      "Creating..../data/frame25.jpg\n",
      "Creating..../data/frame26.jpg\n",
      "Creating..../data/frame27.jpg\n",
      "Creating..../data/frame28.jpg\n",
      "Creating..../data/frame29.jpg\n",
      "Creating..../data/frame30.jpg\n",
      "Creating..../data/frame31.jpg\n",
      "Creating..../data/frame32.jpg\n",
      "Creating..../data/frame33.jpg\n",
      "Creating..../data/frame34.jpg\n",
      "Creating..../data/frame35.jpg\n",
      "Creating..../data/frame36.jpg\n",
      "Creating..../data/frame37.jpg\n",
      "Creating..../data/frame38.jpg\n",
      "Creating..../data/frame39.jpg\n",
      "Creating..../data/frame40.jpg\n",
      "Creating..../data/frame41.jpg\n",
      "Creating..../data/frame42.jpg\n",
      "Creating..../data/frame43.jpg\n",
      "Creating..../data/frame44.jpg\n",
      "Creating..../data/frame45.jpg\n",
      "Creating..../data/frame46.jpg\n",
      "Creating..../data/frame47.jpg\n",
      "Creating..../data/frame48.jpg\n",
      "Creating..../data/frame49.jpg\n",
      "Creating..../data/frame50.jpg\n",
      "Creating..../data/frame51.jpg\n",
      "Creating..../data/frame52.jpg\n",
      "Creating..../data/frame53.jpg\n",
      "Creating..../data/frame54.jpg\n",
      "Creating..../data/frame55.jpg\n",
      "Creating..../data/frame56.jpg\n",
      "Creating..../data/frame57.jpg\n",
      "Creating..../data/frame58.jpg\n",
      "Creating..../data/frame59.jpg\n",
      "Creating..../data/frame60.jpg\n",
      "Creating..../data/frame61.jpg\n",
      "Creating..../data/frame62.jpg\n",
      "Creating..../data/frame63.jpg\n",
      "Creating..../data/frame64.jpg\n",
      "Creating..../data/frame65.jpg\n",
      "Creating..../data/frame66.jpg\n",
      "Creating..../data/frame67.jpg\n",
      "Creating..../data/frame68.jpg\n",
      "Creating..../data/frame69.jpg\n",
      "Creating..../data/frame70.jpg\n",
      "Creating..../data/frame71.jpg\n",
      "Creating..../data/frame72.jpg\n",
      "Creating..../data/frame73.jpg\n",
      "Creating..../data/frame74.jpg\n",
      "Creating..../data/frame75.jpg\n",
      "Creating..../data/frame76.jpg\n",
      "Creating..../data/frame77.jpg\n",
      "Creating..../data/frame78.jpg\n",
      "Creating..../data/frame79.jpg\n",
      "Creating..../data/frame80.jpg\n",
      "Creating..../data/frame81.jpg\n",
      "Creating..../data/frame82.jpg\n",
      "Creating..../data/frame83.jpg\n",
      "Creating..../data/frame84.jpg\n",
      "Creating..../data/frame85.jpg\n",
      "Creating..../data/frame86.jpg\n",
      "Creating..../data/frame87.jpg\n",
      "Creating..../data/frame88.jpg\n",
      "Creating..../data/frame89.jpg\n",
      "Creating..../data/frame90.jpg\n",
      "Creating..../data/frame91.jpg\n",
      "Creating..../data/frame92.jpg\n",
      "Creating..../data/frame93.jpg\n",
      "Creating..../data/frame94.jpg\n",
      "Creating..../data/frame95.jpg\n",
      "Creating..../data/frame96.jpg\n",
      "Creating..../data/frame97.jpg\n",
      "Creating..../data/frame98.jpg\n",
      "Creating..../data/frame99.jpg\n",
      "Creating..../data/frame100.jpg\n",
      "Creating..../data/frame101.jpg\n",
      "Creating..../data/frame102.jpg\n",
      "Creating..../data/frame103.jpg\n",
      "Creating..../data/frame104.jpg\n",
      "Creating..../data/frame105.jpg\n",
      "Creating..../data/frame106.jpg\n",
      "Creating..../data/frame107.jpg\n",
      "Creating..../data/frame108.jpg\n",
      "Creating..../data/frame109.jpg\n",
      "Creating..../data/frame110.jpg\n",
      "Creating..../data/frame111.jpg\n",
      "Creating..../data/frame112.jpg\n",
      "Creating..../data/frame113.jpg\n",
      "Creating..../data/frame114.jpg\n",
      "Creating..../data/frame115.jpg\n",
      "Creating..../data/frame116.jpg\n",
      "Creating..../data/frame117.jpg\n",
      "Creating..../data/frame118.jpg\n",
      "Creating..../data/frame119.jpg\n",
      "Creating..../data/frame120.jpg\n",
      "Creating..../data/frame121.jpg\n",
      "Creating..../data/frame122.jpg\n",
      "Creating..../data/frame123.jpg\n",
      "Creating..../data/frame124.jpg\n",
      "Creating..../data/frame125.jpg\n",
      "Creating..../data/frame126.jpg\n",
      "Creating..../data/frame127.jpg\n",
      "Creating..../data/frame128.jpg\n",
      "Creating..../data/frame129.jpg\n",
      "Creating..../data/frame130.jpg\n",
      "Creating..../data/frame131.jpg\n",
      "Creating..../data/frame132.jpg\n",
      "Creating..../data/frame133.jpg\n",
      "Creating..../data/frame134.jpg\n",
      "Creating..../data/frame135.jpg\n",
      "Creating..../data/frame136.jpg\n",
      "Creating..../data/frame137.jpg\n",
      "Creating..../data/frame138.jpg\n",
      "Creating..../data/frame139.jpg\n",
      "Creating..../data/frame140.jpg\n",
      "Creating..../data/frame141.jpg\n",
      "Creating..../data/frame142.jpg\n",
      "Creating..../data/frame143.jpg\n",
      "Creating..../data/frame144.jpg\n",
      "Creating..../data/frame145.jpg\n",
      "Creating..../data/frame146.jpg\n",
      "Creating..../data/frame147.jpg\n",
      "Creating..../data/frame148.jpg\n",
      "Creating..../data/frame149.jpg\n",
      "Creating..../data/frame150.jpg\n",
      "Creating..../data/frame151.jpg\n",
      "Creating..../data/frame152.jpg\n",
      "Creating..../data/frame153.jpg\n",
      "Creating..../data/frame154.jpg\n",
      "Creating..../data/frame155.jpg\n",
      "Creating..../data/frame156.jpg\n",
      "Creating..../data/frame157.jpg\n",
      "Creating..../data/frame158.jpg\n",
      "Creating..../data/frame159.jpg\n",
      "Creating..../data/frame160.jpg\n",
      "Creating..../data/frame161.jpg\n",
      "Creating..../data/frame162.jpg\n",
      "Creating..../data/frame163.jpg\n",
      "Creating..../data/frame164.jpg\n",
      "Creating..../data/frame165.jpg\n",
      "Creating..../data/frame166.jpg\n",
      "Creating..../data/frame167.jpg\n",
      "Creating..../data/frame168.jpg\n",
      "Creating..../data/frame169.jpg\n",
      "Creating..../data/frame170.jpg\n",
      "Creating..../data/frame171.jpg\n",
      "Creating..../data/frame172.jpg\n",
      "Creating..../data/frame173.jpg\n",
      "Creating..../data/frame174.jpg\n",
      "Creating..../data/frame175.jpg\n",
      "Creating..../data/frame176.jpg\n",
      "Creating..../data/frame177.jpg\n",
      "Creating..../data/frame178.jpg\n",
      "Creating..../data/frame179.jpg\n",
      "Creating..../data/frame180.jpg\n",
      "Creating..../data/frame181.jpg\n",
      "Creating..../data/frame182.jpg\n",
      "Creating..../data/frame183.jpg\n",
      "Creating..../data/frame184.jpg\n",
      "Creating..../data/frame185.jpg\n",
      "Creating..../data/frame186.jpg\n",
      "Creating..../data/frame187.jpg\n",
      "Creating..../data/frame188.jpg\n",
      "Creating..../data/frame189.jpg\n",
      "Creating..../data/frame190.jpg\n",
      "Creating..../data/frame191.jpg\n",
      "Creating..../data/frame192.jpg\n",
      "Creating..../data/frame193.jpg\n",
      "Creating..../data/frame194.jpg\n",
      "Creating..../data/frame195.jpg\n",
      "Creating..../data/frame196.jpg\n",
      "Creating..../data/frame197.jpg\n",
      "Creating..../data/frame198.jpg\n",
      "Creating..../data/frame199.jpg\n",
      "Creating..../data/frame200.jpg\n",
      "Creating..../data/frame201.jpg\n",
      "Creating..../data/frame202.jpg\n",
      "Creating..../data/frame203.jpg\n",
      "Creating..../data/frame204.jpg\n",
      "Creating..../data/frame205.jpg\n",
      "Creating..../data/frame206.jpg\n",
      "Creating..../data/frame207.jpg\n",
      "Creating..../data/frame208.jpg\n",
      "Creating..../data/frame209.jpg\n",
      "Creating..../data/frame210.jpg\n",
      "Creating..../data/frame211.jpg\n",
      "Creating..../data/frame212.jpg\n",
      "Creating..../data/frame213.jpg\n",
      "Creating..../data/frame214.jpg\n",
      "Creating..../data/frame215.jpg\n",
      "Creating..../data/frame216.jpg\n",
      "Creating..../data/frame217.jpg\n",
      "Creating..../data/frame218.jpg\n",
      "Creating..../data/frame219.jpg\n",
      "Creating..../data/frame220.jpg\n",
      "Creating..../data/frame221.jpg\n",
      "Creating..../data/frame222.jpg\n",
      "Creating..../data/frame223.jpg\n",
      "Creating..../data/frame224.jpg\n",
      "Creating..../data/frame225.jpg\n",
      "Creating..../data/frame226.jpg\n",
      "Creating..../data/frame227.jpg\n",
      "Creating..../data/frame228.jpg\n",
      "Creating..../data/frame229.jpg\n",
      "Creating..../data/frame230.jpg\n",
      "Creating..../data/frame231.jpg\n",
      "Creating..../data/frame232.jpg\n",
      "Creating..../data/frame233.jpg\n",
      "Creating..../data/frame234.jpg\n",
      "Creating..../data/frame235.jpg\n",
      "Creating..../data/frame236.jpg\n",
      "Creating..../data/frame237.jpg\n",
      "Creating..../data/frame238.jpg\n",
      "Creating..../data/frame239.jpg\n",
      "Creating..../data/frame240.jpg\n",
      "Creating..../data/frame241.jpg\n",
      "Creating..../data/frame242.jpg\n",
      "Creating..../data/frame243.jpg\n",
      "Creating..../data/frame244.jpg\n",
      "Creating..../data/frame245.jpg\n",
      "Creating..../data/frame246.jpg\n",
      "Creating..../data/frame247.jpg\n",
      "Creating..../data/frame248.jpg\n",
      "Creating..../data/frame249.jpg\n",
      "Creating..../data/frame250.jpg\n",
      "Creating..../data/frame251.jpg\n",
      "Creating..../data/frame252.jpg\n",
      "Creating..../data/frame253.jpg\n",
      "Creating..../data/frame254.jpg\n",
      "Creating..../data/frame255.jpg\n",
      "Creating..../data/frame256.jpg\n",
      "Creating..../data/frame257.jpg\n",
      "Creating..../data/frame258.jpg\n",
      "Creating..../data/frame259.jpg\n",
      "Creating..../data/frame260.jpg\n",
      "Creating..../data/frame261.jpg\n",
      "Creating..../data/frame262.jpg\n",
      "Creating..../data/frame263.jpg\n",
      "Creating..../data/frame264.jpg\n",
      "Creating..../data/frame265.jpg\n",
      "Creating..../data/frame266.jpg\n",
      "Creating..../data/frame267.jpg\n",
      "Creating..../data/frame268.jpg\n",
      "Creating..../data/frame269.jpg\n",
      "Creating..../data/frame270.jpg\n",
      "Creating..../data/frame271.jpg\n",
      "Creating..../data/frame272.jpg\n",
      "Creating..../data/frame273.jpg\n",
      "Creating..../data/frame274.jpg\n",
      "Creating..../data/frame275.jpg\n",
      "Creating..../data/frame276.jpg\n",
      "Creating..../data/frame277.jpg\n",
      "Creating..../data/frame278.jpg\n",
      "Creating..../data/frame279.jpg\n",
      "Creating..../data/frame280.jpg\n",
      "Creating..../data/frame281.jpg\n",
      "Creating..../data/frame282.jpg\n",
      "Creating..../data/frame283.jpg\n",
      "Creating..../data/frame284.jpg\n",
      "Creating..../data/frame285.jpg\n",
      "Creating..../data/frame286.jpg\n",
      "Creating..../data/frame287.jpg\n",
      "Creating..../data/frame288.jpg\n",
      "Creating..../data/frame289.jpg\n",
      "Creating..../data/frame290.jpg\n",
      "Creating..../data/frame291.jpg\n",
      "Creating..../data/frame292.jpg\n",
      "Creating..../data/frame293.jpg\n",
      "Creating..../data/frame294.jpg\n",
      "Creating..../data/frame295.jpg\n",
      "Creating..../data/frame296.jpg\n",
      "Creating..../data/frame297.jpg\n",
      "Creating..../data/frame298.jpg\n",
      "Creating..../data/frame299.jpg\n",
      "Creating..../data/frame300.jpg\n",
      "Creating..../data/frame301.jpg\n",
      "Creating..../data/frame302.jpg\n",
      "Creating..../data/frame303.jpg\n",
      "Creating..../data/frame304.jpg\n",
      "Creating..../data/frame305.jpg\n",
      "Creating..../data/frame306.jpg\n",
      "Creating..../data/frame307.jpg\n",
      "Creating..../data/frame308.jpg\n",
      "Creating..../data/frame309.jpg\n",
      "Creating..../data/frame310.jpg\n",
      "Creating..../data/frame311.jpg\n",
      "Creating..../data/frame312.jpg\n",
      "Creating..../data/frame313.jpg\n",
      "Creating..../data/frame314.jpg\n",
      "Creating..../data/frame315.jpg\n",
      "Creating..../data/frame316.jpg\n",
      "Creating..../data/frame317.jpg\n",
      "Creating..../data/frame318.jpg\n",
      "Creating..../data/frame319.jpg\n",
      "Creating..../data/frame320.jpg\n",
      "Creating..../data/frame321.jpg\n",
      "Creating..../data/frame322.jpg\n",
      "Creating..../data/frame323.jpg\n",
      "Creating..../data/frame324.jpg\n",
      "Creating..../data/frame325.jpg\n",
      "Creating..../data/frame326.jpg\n",
      "Creating..../data/frame327.jpg\n",
      "Creating..../data/frame328.jpg\n",
      "Creating..../data/frame329.jpg\n",
      "Creating..../data/frame330.jpg\n",
      "Creating..../data/frame331.jpg\n",
      "Creating..../data/frame332.jpg\n",
      "Creating..../data/frame333.jpg\n",
      "Creating..../data/frame334.jpg\n",
      "Creating..../data/frame335.jpg\n",
      "Creating..../data/frame336.jpg\n",
      "Creating..../data/frame337.jpg\n",
      "Creating..../data/frame338.jpg\n",
      "Creating..../data/frame339.jpg\n",
      "Creating..../data/frame340.jpg\n",
      "Creating..../data/frame341.jpg\n",
      "Creating..../data/frame342.jpg\n",
      "Creating..../data/frame343.jpg\n",
      "Creating..../data/frame344.jpg\n",
      "Creating..../data/frame345.jpg\n",
      "Creating..../data/frame346.jpg\n",
      "Creating..../data/frame347.jpg\n",
      "Creating..../data/frame348.jpg\n",
      "Creating..../data/frame349.jpg\n",
      "Creating..../data/frame350.jpg\n",
      "Creating..../data/frame351.jpg\n",
      "Creating..../data/frame352.jpg\n",
      "Creating..../data/frame353.jpg\n",
      "Creating..../data/frame354.jpg\n",
      "Creating..../data/frame355.jpg\n",
      "Creating..../data/frame356.jpg\n",
      "Creating..../data/frame357.jpg\n",
      "Creating..../data/frame358.jpg\n",
      "Creating..../data/frame359.jpg\n",
      "Creating..../data/frame360.jpg\n",
      "Creating..../data/frame361.jpg\n",
      "Creating..../data/frame362.jpg\n",
      "Creating..../data/frame363.jpg\n",
      "Creating..../data/frame364.jpg\n",
      "Creating..../data/frame365.jpg\n",
      "Creating..../data/frame366.jpg\n",
      "Creating..../data/frame367.jpg\n",
      "Creating..../data/frame368.jpg\n",
      "Creating..../data/frame369.jpg\n",
      "Creating..../data/frame370.jpg\n",
      "Creating..../data/frame371.jpg\n",
      "Creating..../data/frame372.jpg\n",
      "Creating..../data/frame373.jpg\n",
      "Creating..../data/frame374.jpg\n",
      "Creating..../data/frame375.jpg\n",
      "Creating..../data/frame376.jpg\n",
      "Creating..../data/frame377.jpg\n",
      "Creating..../data/frame378.jpg\n",
      "Creating..../data/frame379.jpg\n",
      "Creating..../data/frame380.jpg\n",
      "Creating..../data/frame381.jpg\n",
      "Creating..../data/frame382.jpg\n",
      "Creating..../data/frame383.jpg\n",
      "Creating..../data/frame384.jpg\n",
      "Creating..../data/frame385.jpg\n",
      "Creating..../data/frame386.jpg\n",
      "Creating..../data/frame387.jpg\n",
      "Creating..../data/frame388.jpg\n",
      "Creating..../data/frame389.jpg\n",
      "Creating..../data/frame390.jpg\n",
      "Creating..../data/frame391.jpg\n",
      "Creating..../data/frame392.jpg\n",
      "Creating..../data/frame393.jpg\n",
      "Creating..../data/frame394.jpg\n",
      "Creating..../data/frame395.jpg\n",
      "Creating..../data/frame396.jpg\n",
      "Creating..../data/frame397.jpg\n",
      "Creating..../data/frame398.jpg\n",
      "Creating..../data/frame399.jpg\n",
      "Creating..../data/frame400.jpg\n",
      "Creating..../data/frame401.jpg\n",
      "Creating..../data/frame402.jpg\n",
      "Creating..../data/frame403.jpg\n",
      "Creating..../data/frame404.jpg\n",
      "Creating..../data/frame405.jpg\n",
      "Creating..../data/frame406.jpg\n",
      "Creating..../data/frame407.jpg\n",
      "Creating..../data/frame408.jpg\n",
      "Creating..../data/frame409.jpg\n",
      "Creating..../data/frame410.jpg\n",
      "Creating..../data/frame411.jpg\n",
      "Creating..../data/frame412.jpg\n",
      "Creating..../data/frame413.jpg\n",
      "Creating..../data/frame414.jpg\n",
      "Creating..../data/frame415.jpg\n",
      "Creating..../data/frame416.jpg\n",
      "Creating..../data/frame417.jpg\n",
      "Creating..../data/frame418.jpg\n",
      "Creating..../data/frame419.jpg\n",
      "Creating..../data/frame420.jpg\n",
      "Creating..../data/frame421.jpg\n",
      "Creating..../data/frame422.jpg\n",
      "Creating..../data/frame423.jpg\n",
      "Creating..../data/frame424.jpg\n",
      "Creating..../data/frame425.jpg\n",
      "Creating..../data/frame426.jpg\n",
      "Creating..../data/frame427.jpg\n",
      "Creating..../data/frame428.jpg\n",
      "Creating..../data/frame429.jpg\n",
      "Creating..../data/frame430.jpg\n",
      "Creating..../data/frame431.jpg\n",
      "Creating..../data/frame432.jpg\n",
      "Creating..../data/frame433.jpg\n",
      "Creating..../data/frame434.jpg\n",
      "Creating..../data/frame435.jpg\n",
      "Creating..../data/frame436.jpg\n",
      "Creating..../data/frame437.jpg\n",
      "Creating..../data/frame438.jpg\n",
      "Creating..../data/frame439.jpg\n",
      "Creating..../data/frame440.jpg\n",
      "Creating..../data/frame441.jpg\n",
      "Creating..../data/frame442.jpg\n",
      "Creating..../data/frame443.jpg\n",
      "Creating..../data/frame444.jpg\n",
      "Creating..../data/frame445.jpg\n",
      "Creating..../data/frame446.jpg\n",
      "Creating..../data/frame447.jpg\n",
      "Creating..../data/frame448.jpg\n",
      "Creating..../data/frame449.jpg\n",
      "Creating..../data/frame450.jpg\n",
      "Creating..../data/frame451.jpg\n",
      "Creating..../data/frame452.jpg\n",
      "Creating..../data/frame453.jpg\n",
      "Creating..../data/frame454.jpg\n",
      "Creating..../data/frame455.jpg\n",
      "Creating..../data/frame456.jpg\n",
      "Creating..../data/frame457.jpg\n",
      "Creating..../data/frame458.jpg\n",
      "Creating..../data/frame459.jpg\n",
      "Creating..../data/frame460.jpg\n",
      "Creating..../data/frame461.jpg\n",
      "Creating..../data/frame462.jpg\n",
      "Creating..../data/frame463.jpg\n",
      "Creating..../data/frame464.jpg\n",
      "Creating..../data/frame465.jpg\n",
      "Creating..../data/frame466.jpg\n",
      "Creating..../data/frame467.jpg\n",
      "Creating..../data/frame468.jpg\n",
      "Creating..../data/frame469.jpg\n",
      "Creating..../data/frame470.jpg\n",
      "Creating..../data/frame471.jpg\n",
      "Creating..../data/frame472.jpg\n",
      "Creating..../data/frame473.jpg\n",
      "Creating..../data/frame474.jpg\n",
      "Creating..../data/frame475.jpg\n",
      "Creating..../data/frame476.jpg\n",
      "Creating..../data/frame477.jpg\n",
      "Creating..../data/frame478.jpg\n",
      "Creating..../data/frame479.jpg\n",
      "Creating..../data/frame480.jpg\n",
      "Creating..../data/frame481.jpg\n",
      "Creating..../data/frame482.jpg\n",
      "Creating..../data/frame483.jpg\n",
      "Creating..../data/frame484.jpg\n",
      "Creating..../data/frame485.jpg\n",
      "Creating..../data/frame486.jpg\n",
      "Creating..../data/frame487.jpg\n",
      "Creating..../data/frame488.jpg\n",
      "Creating..../data/frame489.jpg\n",
      "Creating..../data/frame490.jpg\n",
      "Creating..../data/frame491.jpg\n",
      "Creating..../data/frame492.jpg\n",
      "Creating..../data/frame493.jpg\n",
      "Creating..../data/frame494.jpg\n",
      "Creating..../data/frame495.jpg\n",
      "Creating..../data/frame496.jpg\n",
      "Creating..../data/frame497.jpg\n",
      "Creating..../data/frame498.jpg\n",
      "Creating..../data/frame499.jpg\n",
      "Creating..../data/frame500.jpg\n",
      "Creating..../data/frame501.jpg\n",
      "Creating..../data/frame502.jpg\n",
      "Creating..../data/frame503.jpg\n",
      "Creating..../data/frame504.jpg\n",
      "Creating..../data/frame505.jpg\n",
      "Creating..../data/frame506.jpg\n",
      "Creating..../data/frame507.jpg\n",
      "Creating..../data/frame508.jpg\n",
      "Creating..../data/frame509.jpg\n",
      "Creating..../data/frame510.jpg\n",
      "Creating..../data/frame511.jpg\n",
      "Creating..../data/frame512.jpg\n",
      "Creating..../data/frame513.jpg\n",
      "Creating..../data/frame514.jpg\n",
      "Creating..../data/frame515.jpg\n",
      "Creating..../data/frame516.jpg\n",
      "Creating..../data/frame517.jpg\n",
      "Creating..../data/frame518.jpg\n",
      "Creating..../data/frame519.jpg\n",
      "Creating..../data/frame520.jpg\n",
      "Creating..../data/frame521.jpg\n",
      "Creating..../data/frame522.jpg\n",
      "Creating..../data/frame523.jpg\n",
      "Creating..../data/frame524.jpg\n",
      "Creating..../data/frame525.jpg\n",
      "Creating..../data/frame526.jpg\n",
      "Creating..../data/frame527.jpg\n",
      "Creating..../data/frame528.jpg\n",
      "Creating..../data/frame529.jpg\n",
      "Creating..../data/frame530.jpg\n",
      "Creating..../data/frame531.jpg\n",
      "Creating..../data/frame532.jpg\n",
      "Creating..../data/frame533.jpg\n"
     ]
    },
    {
     "name": "stdout",
     "output_type": "stream",
     "text": [
      "Creating..../data/frame534.jpg\n",
      "Creating..../data/frame535.jpg\n",
      "Creating..../data/frame536.jpg\n",
      "Creating..../data/frame537.jpg\n",
      "Creating..../data/frame538.jpg\n",
      "Creating..../data/frame539.jpg\n",
      "Creating..../data/frame540.jpg\n",
      "Creating..../data/frame541.jpg\n",
      "Creating..../data/frame542.jpg\n",
      "Creating..../data/frame543.jpg\n",
      "Creating..../data/frame544.jpg\n",
      "Creating..../data/frame545.jpg\n",
      "Creating..../data/frame546.jpg\n",
      "Creating..../data/frame547.jpg\n",
      "Creating..../data/frame548.jpg\n",
      "Creating..../data/frame549.jpg\n",
      "Creating..../data/frame550.jpg\n",
      "Creating..../data/frame551.jpg\n",
      "Creating..../data/frame552.jpg\n",
      "Creating..../data/frame553.jpg\n",
      "Creating..../data/frame554.jpg\n"
     ]
    }
   ],
   "source": [
    "'''\n",
    "Using OpenCV takes a mp4 video and produces a number of images.\n",
    "Requirements\n",
    "----\n",
    "You require OpenCV 3.2 to be installed.\n",
    "Run\n",
    "----\n",
    "Open the main.py and edit the path to the video. Then run:\n",
    "$ python main.py\n",
    "Which will produce a folder called data with the images. There will be 2000+ images for example.mp4.\n",
    "'''\n",
    "X = []\n",
    "\n",
    "# Playing video from file:\n",
    "cap = cv2.VideoCapture('test.avi')\n",
    "\n",
    "# try:\n",
    "#     if not os.path.exists('data'):\n",
    "#         os.makedirs('data')\n",
    "# except OSError:\n",
    "#     print ('Error: Creating directory of data')\n",
    "\n",
    "currentFrame = 0\n",
    "while(True):\n",
    "    # Capture frame-by-frame\n",
    "    ret, frame = cap.read()\n",
    "    if not ret: break\n",
    "    # Saves image of the current frame in jpg file\n",
    "    X.append(frame)\n",
    "#     name = './data/frame' + str(currentFrame) + '.jpg'\n",
    "#     print ('Creating...' + name)\n",
    "#     cv2.imwrite(name, frame)\n",
    "\n",
    "# #     To stop duplicate images\n",
    "    currentFrame += 1\n",
    "\n",
    "# When everything done, release the capture\n",
    "cap.release()\n",
    "cv2.destroyAllWindows()"
   ]
  },
  {
   "cell_type": "code",
   "execution_count": 21,
   "metadata": {},
   "outputs": [],
   "source": [
    "X = np.array(X)"
   ]
  },
  {
   "cell_type": "code",
   "execution_count": 22,
   "metadata": {},
   "outputs": [
    {
     "data": {
      "text/plain": [
       "(555, 120, 160, 3)"
      ]
     },
     "execution_count": 22,
     "metadata": {},
     "output_type": "execute_result"
    }
   ],
   "source": [
    "X.shape"
   ]
  },
  {
   "cell_type": "code",
   "execution_count": 4,
   "metadata": {},
   "outputs": [
    {
     "data": {
      "text/plain": [
       "160"
      ]
     },
     "execution_count": 4,
     "metadata": {},
     "output_type": "execute_result"
    }
   ],
   "source": [
    "len(X[2][0])"
   ]
  },
  {
   "cell_type": "code",
   "execution_count": 6,
   "metadata": {},
   "outputs": [],
   "source": [
    "blur = cv2.GaussianBlur(X[17],(5,5),0)"
   ]
  },
  {
   "cell_type": "code",
   "execution_count": 5,
   "metadata": {},
   "outputs": [],
   "source": [
    "for i in range(len(X)):\n",
    "    X[i] = cv2.GaussianBlur(X[i],(5,5),0)"
   ]
  },
  {
   "cell_type": "code",
   "execution_count": 13,
   "metadata": {},
   "outputs": [
    {
     "data": {
      "image/png": "[encoded data removed]",
      "text/plain": [
       "<Figure size 432x288 with 1 Axes>"
      ]
     },
     "metadata": {
      "needs_background": "light"
     },
     "output_type": "display_data"
    }
   ],
   "source": [
    "plt.imshow(blur)\n",
    "plt.show()"
   ]
  },
  {
   "cell_type": "code",
   "execution_count": 6,
   "metadata": {},
   "outputs": [
    {
     "data": {
      "image/png": "[encoded data removed]",
      "text/plain": [
       "<Figure size 432x288 with 1 Axes>"
      ]
     },
     "metadata": {
      "needs_background": "light"
     },
     "output_type": "display_data"
    }
   ],
   "source": [
    "plt.imshow(X[17])\n",
    "plt.show()"
   ]
  },
  {
   "cell_type": "code",
   "execution_count": 13,
   "metadata": {},
   "outputs": [],
   "source": [
    "g_kernel = cv2.getGaborKernel((21, 21), 8.0, np.pi/4, 10.0, 0.5, 0, ktype=cv2.CV_32F)\n",
    "\n",
    "\n",
    "img = cv2.cvtColor(X[17], cv2.COLOR_BGR2GRAY)\n",
    "filtered_img = cv2.filter2D(img, cv2.CV_8UC3, g_kernel)\n",
    "\n",
    "# cv2.imshow('image', img)\n",
    "# cv2.imshow('filtered image', filtered_img)\n",
    "\n",
    "h, w = g_kernel.shape[:2]\n",
    "g_kernel = cv2.resize(filtered_img, (3*w, 3*h), interpolation=cv2.INTER_CUBIC)"
   ]
  },
  {
   "cell_type": "code",
   "execution_count": 20,
   "metadata": {},
   "outputs": [
    {
     "ename": "TypeError",
     "evalue": "function takes exactly 2 arguments (3 given)",
     "output_type": "error",
     "traceback": [
      "\u001b[1;31m---------------------------------------------------------------------------\u001b[0m",
      "\u001b[1;31mTypeError\u001b[0m                                 Traceback (most recent call last)",
      "\u001b[1;32m<ipython-input-20-50003437b144>\u001b[0m in \u001b[0;36m<module>\u001b[1;34m\u001b[0m\n\u001b[1;32m----> 1\u001b[1;33m \u001b[0mg_kernel\u001b[0m \u001b[1;33m=\u001b[0m \u001b[0mcv2\u001b[0m\u001b[1;33m.\u001b[0m\u001b[0mgetGaborKernel\u001b[0m\u001b[1;33m(\u001b[0m\u001b[1;33m(\u001b[0m\u001b[1;36m1\u001b[0m\u001b[1;33m,\u001b[0m\u001b[1;36m1\u001b[0m\u001b[1;33m,\u001b[0m \u001b[1;36m5\u001b[0m\u001b[1;33m)\u001b[0m\u001b[1;33m,\u001b[0m \u001b[1;36m8.0\u001b[0m\u001b[1;33m,\u001b[0m \u001b[0mnp\u001b[0m\u001b[1;33m.\u001b[0m\u001b[0mpi\u001b[0m\u001b[1;33m/\u001b[0m\u001b[1;36m4\u001b[0m\u001b[1;33m,\u001b[0m \u001b[1;36m10.0\u001b[0m\u001b[1;33m,\u001b[0m \u001b[1;36m0.5\u001b[0m\u001b[1;33m,\u001b[0m \u001b[1;36m0\u001b[0m\u001b[1;33m,\u001b[0m \u001b[0mktype\u001b[0m\u001b[1;33m=\u001b[0m\u001b[0mcv2\u001b[0m\u001b[1;33m.\u001b[0m\u001b[0mCV_32F\u001b[0m\u001b[1;33m)\u001b[0m\u001b[1;33m\u001b[0m\u001b[1;33m\u001b[0m\u001b[0m\n\u001b[0m",
      "\u001b[1;31mTypeError\u001b[0m: function takes exactly 2 arguments (3 given)"
     ]
    }
   ],
   "source": [
    "g_kernel = cv2.getGaborKernel((1,1, 5), 8.0, np.pi/4, 10.0, 0.5, 0, ktype=cv2.CV_32F)"
   ]
  },
  {
   "cell_type": "code",
   "execution_count": 19,
   "metadata": {},
   "outputs": [
    {
     "data": {
      "text/plain": [
       "array([[-0.19248143,  0.22732863,  0.6183222 ,  0.89152646,  0.9844964 ],\n",
       "       [ 0.22732863,  0.6207422 ,  0.89851874,  0.9961014 ,  0.89152646],\n",
       "       [ 0.6183222 ,  0.89851874,  1.        ,  0.89851874,  0.6183222 ],\n",
       "       [ 0.89152646,  0.9961014 ,  0.89851874,  0.6207422 ,  0.22732863],\n",
       "       [ 0.9844964 ,  0.89152646,  0.6183222 ,  0.22732863, -0.19248143]],\n",
       "      dtype=float32)"
      ]
     },
     "execution_count": 19,
     "metadata": {},
     "output_type": "execute_result"
    }
   ],
   "source": [
    "g_kernel"
   ]
  },
  {
   "cell_type": "code",
   "execution_count": 15,
   "metadata": {},
   "outputs": [
    {
     "data": {
      "image/png": "[encoded data removed]",
      "text/plain": [
       "<Figure size 432x288 with 1 Axes>"
      ]
     },
     "metadata": {
      "needs_background": "light"
     },
     "output_type": "display_data"
    }
   ],
   "source": [
    "plt.imshow(img)\n",
    "plt.show()"
   ]
  },
  {
   "cell_type": "code",
   "execution_count": 30,
   "metadata": {},
   "outputs": [
    {
     "ename": "AttributeError",
     "evalue": "module 'tensorflow' has no attribute 'conv2d'",
     "output_type": "error",
     "traceback": [
      "\u001b[1;31m---------------------------------------------------------------------------\u001b[0m",
      "\u001b[1;31mAttributeError\u001b[0m                            Traceback (most recent call last)",
      "\u001b[1;32m<ipython-input-30-4b862ead9d46>\u001b[0m in \u001b[0;36m<module>\u001b[1;34m\u001b[0m\n\u001b[0;32m      9\u001b[0m \u001b[1;33m\u001b[0m\u001b[0m\n\u001b[0;32m     10\u001b[0m \u001b[1;31m# Apply the filter on `image`\u001b[0m\u001b[1;33m\u001b[0m\u001b[1;33m\u001b[0m\u001b[1;33m\u001b[0m\u001b[0m\n\u001b[1;32m---> 11\u001b[1;33m \u001b[0manswer\u001b[0m \u001b[1;33m=\u001b[0m \u001b[0mtf\u001b[0m\u001b[1;33m.\u001b[0m\u001b[0mconv2d\u001b[0m\u001b[1;33m(\u001b[0m\u001b[0mX\u001b[0m\u001b[1;33m[\u001b[0m\u001b[1;36m17\u001b[0m\u001b[1;33m]\u001b[0m\u001b[1;33m,\u001b[0m \u001b[0mfilter\u001b[0m\u001b[1;33m,\u001b[0m \u001b[0mstrides\u001b[0m\u001b[1;33m=\u001b[0m\u001b[1;33m[\u001b[0m\u001b[1;36m1\u001b[0m\u001b[1;33m,\u001b[0m \u001b[1;36m1\u001b[0m\u001b[1;33m,\u001b[0m \u001b[1;36m1\u001b[0m\u001b[1;33m,\u001b[0m \u001b[1;36m1\u001b[0m\u001b[1;33m]\u001b[0m\u001b[1;33m,\u001b[0m \u001b[0mpadding\u001b[0m\u001b[1;33m=\u001b[0m\u001b[1;34m'SAME'\u001b[0m\u001b[1;33m)\u001b[0m\u001b[1;33m\u001b[0m\u001b[1;33m\u001b[0m\u001b[0m\n\u001b[0m",
      "\u001b[1;31mAttributeError\u001b[0m: module 'tensorflow' has no attribute 'conv2d'"
     ]
    }
   ],
   "source": [
    "\n",
    "\n",
    "# Create a 3x3 Gabor filter\n",
    "params = {'ksize':(3, 3), 'sigma':1.0, 'theta': 0, 'lambd':15.0, 'gamma':0.02}\n",
    "filter = cv2.getGaborKernel(**params)\n",
    "# make the filter to have 4 dimensions.\n",
    "filter = tf.expand_dims(filter, 2)\n",
    "filter = tf.expand_dims(filter, 3)\n",
    "\n",
    "# Apply the filter on `image`\n",
    "answer = tf.conv2d(X[17], filter, strides=[1, 1, 1, 1], padding='SAME')"
   ]
  },
  {
   "cell_type": "code",
   "execution_count": 40,
   "metadata": {},
   "outputs": [
    {
     "ename": "AttributeError",
     "evalue": "module 'tensorflow' has no attribute 'get_default_graph'",
     "output_type": "error",
     "traceback": [
      "\u001b[1;31m---------------------------------------------------------------------------\u001b[0m",
      "\u001b[1;31mAttributeError\u001b[0m                            Traceback (most recent call last)",
      "\u001b[1;32m<ipython-input-40-b6dc14fef40f>\u001b[0m in \u001b[0;36m<module>\u001b[1;34m\u001b[0m\n\u001b[1;32m----> 1\u001b[1;33m \u001b[0mkeras\u001b[0m\u001b[1;33m.\u001b[0m\u001b[0mlayers\u001b[0m\u001b[1;33m.\u001b[0m\u001b[0mConv2D\u001b[0m\u001b[1;33m(\u001b[0m\u001b[0mfilter\u001b[0m\u001b[1;33m,\u001b[0m \u001b[1;33m(\u001b[0m\u001b[1;36m3\u001b[0m\u001b[1;33m,\u001b[0m \u001b[1;36m3\u001b[0m\u001b[1;33m)\u001b[0m\u001b[1;33m,\u001b[0m \u001b[0mstrides\u001b[0m\u001b[1;33m=\u001b[0m\u001b[1;33m(\u001b[0m\u001b[1;36m1\u001b[0m\u001b[1;33m,\u001b[0m \u001b[1;36m1\u001b[0m\u001b[1;33m)\u001b[0m\u001b[1;33m,\u001b[0m \u001b[0mpadding\u001b[0m\u001b[1;33m=\u001b[0m\u001b[1;34m'valid'\u001b[0m\u001b[1;33m,\u001b[0m \u001b[0mdata_format\u001b[0m\u001b[1;33m=\u001b[0m\u001b[1;32mNone\u001b[0m\u001b[1;33m,\u001b[0m \u001b[0mdilation_rate\u001b[0m\u001b[1;33m=\u001b[0m\u001b[1;33m(\u001b[0m\u001b[1;36m1\u001b[0m\u001b[1;33m,\u001b[0m \u001b[1;36m1\u001b[0m\u001b[1;33m)\u001b[0m\u001b[1;33m,\u001b[0m \u001b[0mactivation\u001b[0m\u001b[1;33m=\u001b[0m\u001b[1;32mNone\u001b[0m\u001b[1;33m,\u001b[0m \u001b[0muse_bias\u001b[0m\u001b[1;33m=\u001b[0m\u001b[1;32mTrue\u001b[0m\u001b[1;33m,\u001b[0m \u001b[0mkernel_initializer\u001b[0m\u001b[1;33m=\u001b[0m\u001b[1;34m'glorot_uniform'\u001b[0m\u001b[1;33m,\u001b[0m \u001b[0mbias_initializer\u001b[0m\u001b[1;33m=\u001b[0m\u001b[1;34m'zeros'\u001b[0m\u001b[1;33m,\u001b[0m \u001b[0mkernel_regularizer\u001b[0m\u001b[1;33m=\u001b[0m\u001b[1;32mNone\u001b[0m\u001b[1;33m,\u001b[0m \u001b[0mbias_regularizer\u001b[0m\u001b[1;33m=\u001b[0m\u001b[1;32mNone\u001b[0m\u001b[1;33m,\u001b[0m \u001b[0mactivity_regularizer\u001b[0m\u001b[1;33m=\u001b[0m\u001b[1;32mNone\u001b[0m\u001b[1;33m,\u001b[0m \u001b[0mkernel_constraint\u001b[0m\u001b[1;33m=\u001b[0m\u001b[1;32mNone\u001b[0m\u001b[1;33m,\u001b[0m \u001b[0mbias_constraint\u001b[0m\u001b[1;33m=\u001b[0m\u001b[1;32mNone\u001b[0m\u001b[1;33m)\u001b[0m\u001b[1;33m\u001b[0m\u001b[1;33m\u001b[0m\u001b[0m\n\u001b[0m",
      "\u001b[1;32mc:\\python37\\lib\\site-packages\\keras\\legacy\\interfaces.py\u001b[0m in \u001b[0;36mwrapper\u001b[1;34m(*args, **kwargs)\u001b[0m\n",
      "\u001b[1;32mc:\\python37\\lib\\site-packages\\keras\\layers\\convolutional.py\u001b[0m in \u001b[0;36m__init__\u001b[1;34m(self, filters, kernel_size, strides, padding, data_format, dilation_rate, activation, use_bias, kernel_initializer, bias_initializer, kernel_regularizer, bias_regularizer, activity_regularizer, kernel_constraint, bias_constraint, **kwargs)\u001b[0m\n",
      "\u001b[1;32mc:\\python37\\lib\\site-packages\\keras\\layers\\convolutional.py\u001b[0m in \u001b[0;36m__init__\u001b[1;34m(self, rank, filters, kernel_size, strides, padding, data_format, dilation_rate, activation, use_bias, kernel_initializer, bias_initializer, kernel_regularizer, bias_regularizer, activity_regularizer, kernel_constraint, bias_constraint, **kwargs)\u001b[0m\n",
      "\u001b[1;32mc:\\python37\\lib\\site-packages\\keras\\engine\\base_layer.py\u001b[0m in \u001b[0;36m__init__\u001b[1;34m(self, **kwargs)\u001b[0m\n",
      "\u001b[1;32mc:\\python37\\lib\\site-packages\\keras\\backend\\tensorflow_backend.py\u001b[0m in \u001b[0;36mget_uid\u001b[1;34m(prefix)\u001b[0m\n",
      "\u001b[1;31mAttributeError\u001b[0m: module 'tensorflow' has no attribute 'get_default_graph'"
     ]
    }
   ],
   "source": [
    "keras.layers.Conv2D(filter, (3, 3), strides=(1, 1), padding='valid', data_format=None, dilation_rate=(1, 1), activation=None, use_bias=True, kernel_initializer='glorot_uniform', bias_initializer='zeros', kernel_regularizer=None, bias_regularizer=None, activity_regularizer=None, kernel_constraint=None, bias_constraint=None)"
   ]
  },
  {
   "cell_type": "code",
   "execution_count": 4,
   "metadata": {},
   "outputs": [
    {
     "ename": "TypeError",
     "evalue": "'NoneType' object is not subscriptable",
     "output_type": "error",
     "traceback": [
      "\u001b[1;31m---------------------------------------------------------------------------\u001b[0m",
      "\u001b[1;31mTypeError\u001b[0m                                 Traceback (most recent call last)",
      "\u001b[1;32m<ipython-input-4-86945e7a7044>\u001b[0m in \u001b[0;36m<module>\u001b[1;34m\u001b[0m\n\u001b[0;32m     33\u001b[0m         \u001b[1;32mbreak\u001b[0m\u001b[1;33m\u001b[0m\u001b[1;33m\u001b[0m\u001b[0m\n\u001b[0;32m     34\u001b[0m     \u001b[1;31m# Select good points\u001b[0m\u001b[1;33m\u001b[0m\u001b[1;33m\u001b[0m\u001b[1;33m\u001b[0m\u001b[0m\n\u001b[1;32m---> 35\u001b[1;33m     \u001b[0mgood_new\u001b[0m \u001b[1;33m=\u001b[0m \u001b[0mp1\u001b[0m\u001b[1;33m[\u001b[0m\u001b[0mst\u001b[0m\u001b[1;33m==\u001b[0m\u001b[1;36m1\u001b[0m\u001b[1;33m]\u001b[0m\u001b[1;33m\u001b[0m\u001b[1;33m\u001b[0m\u001b[0m\n\u001b[0m\u001b[0;32m     36\u001b[0m     \u001b[0mgood_old\u001b[0m \u001b[1;33m=\u001b[0m \u001b[0mp0\u001b[0m\u001b[1;33m[\u001b[0m\u001b[0mst\u001b[0m\u001b[1;33m==\u001b[0m\u001b[1;36m1\u001b[0m\u001b[1;33m]\u001b[0m\u001b[1;33m\u001b[0m\u001b[1;33m\u001b[0m\u001b[0m\n\u001b[0;32m     37\u001b[0m \u001b[1;33m\u001b[0m\u001b[0m\n",
      "\u001b[1;31mTypeError\u001b[0m: 'NoneType' object is not subscriptable"
     ]
    }
   ],
   "source": [
    "cap = cv2.VideoCapture('test.avi')\n",
    "\n",
    "# params for ShiTomasi corner detection\n",
    "feature_params = dict( maxCorners = 100,\n",
    "                       qualityLevel = 0.3,\n",
    "                       minDistance = 7,\n",
    "                       blockSize = 7 )\n",
    "\n",
    "# Parameters for lucas kanade optical flow\n",
    "lk_params = dict( winSize  = (15,15),\n",
    "                  maxLevel = 2,\n",
    "                  criteria = (cv2.TERM_CRITERIA_EPS | cv2.TERM_CRITERIA_COUNT, 10, 0.03))\n",
    "\n",
    "# Create some random colors\n",
    "color = np.random.randint(0,255,(100,3))\n",
    "\n",
    "# Take first frame and find corners in it\n",
    "ret, old_frame = cap.read()\n",
    "old_gray = cv2.cvtColor(old_frame, cv2.COLOR_BGR2GRAY)\n",
    "p0 = cv2.goodFeaturesToTrack(old_gray, mask = None, **feature_params)\n",
    "\n",
    "# Create a mask image for drawing purposes\n",
    "mask = np.zeros_like(old_frame)\n",
    "\n",
    "while(1):\n",
    "    ret,frame = cap.read()\n",
    "    if not ret: break\n",
    "    frame_gray = cv2.cvtColor(frame, cv2.COLOR_BGR2GRAY)\n",
    "\n",
    "    # calculate optical flow\n",
    "    p1, st, err = cv2.calcOpticalFlowPyrLK(old_gray, frame_gray, p0, None, **lk_params)\n",
    "    if len(frame) == 0:\n",
    "        break\n",
    "    # Select good points\n",
    "    good_new = p1[st==1]\n",
    "    good_old = p0[st==1]\n",
    "\n",
    "    # draw the tracks\n",
    "    for i,(new,old) in enumerate(zip(good_new,good_old)):\n",
    "        a,b = new.ravel()\n",
    "        c,d = old.ravel()\n",
    "        mask = cv2.line(mask, (a,b),(c,d), color[i].tolist(), 2)\n",
    "        frame = cv2.circle(frame,(a,b),5,color[i].tolist(),-1)\n",
    "    img = cv2.add(frame,mask)\n",
    "\n",
    "#     cv2.imshow('frame',img)\n",
    "#     k = cv2.waitKey(30) & 0xff\n",
    "#     if k == 27:\n",
    "#         break\n",
    "\n",
    "    # Now update the previous frame and previous points\n",
    "    old_gray = frame_gray.copy()\n",
    "    p0 = good_new.reshape(-1,1,2)\n",
    "\n",
    "# cv2.destroyAllWindows()\n",
    "# cap.release()"
   ]
  },
  {
   "cell_type": "code",
   "execution_count": 11,
   "metadata": {},
   "outputs": [
    {
     "data": {
      "text/plain": [
       "array([], shape=(0, 1, 2), dtype=float32)"
      ]
     },
     "execution_count": 11,
     "metadata": {},
     "output_type": "execute_result"
    }
   ],
   "source": [
    "p0"
   ]
  },
  {
   "cell_type": "code",
   "execution_count": 11,
   "metadata": {},
   "outputs": [],
   "source": []
  },
  {
   "cell_type": "code",
   "execution_count": 2,
   "metadata": {},
   "outputs": [],
   "source": [
    "X = []\n",
    "XX = []\n",
    "cap = cv2.VideoCapture(\"test.avi\")\n",
    "\n",
    "ret, frame1 = cap.read()\n",
    "prvs = cv2.cvtColor(frame1,cv2.COLOR_BGR2GRAY)\n",
    "hsv = np.zeros_like(frame1)\n",
    "hsv[...,1] = 255\n",
    "\n",
    "while(1):\n",
    "    ret, frame2 = cap.read()\n",
    "    if not ret: break\n",
    "#     frame2 = cv2.resize(frame2,(50,50))\n",
    "    next = cv2.cvtColor(frame2,cv2.COLOR_BGR2GRAY)\n",
    "    \n",
    "    flow = cv2.calcOpticalFlowFarneback(prvs,next, None, 0.5, 3, 15, 3, 5, 1.2, 0)\n",
    "#     print(flow.shape)\n",
    "    X.append(next)\n",
    "    \n",
    "    mag, ang = cv2.cartToPolar(flow[...,0], flow[...,1])\n",
    "    \n",
    "    hsv[...,0] = ang*180/np.pi/2\n",
    "    hsv[...,2] = cv2.normalize(mag,None,0,255,cv2.NORM_MINMAX)\n",
    "    rgb = cv2.cvtColor(hsv,cv2.COLOR_HSV2BGR)\n",
    "    o = cv2.cvtColor(rgb,cv2.COLOR_BGR2GRAY)\n",
    "#     print(o.shape)\n",
    "    XX.append(o)\n",
    "    frame2 = cv2.Laplacian(frame2,cv2.CV_64F)\n",
    "    cv2.imshow('frame2',o)\n",
    "    k = cv2.waitKey(30) & 0xff\n",
    "    if k == 27:\n",
    "        break\n",
    "    elif k == ord('s'):\n",
    "        cv2.imwrite('opticalfb.png',frame2)\n",
    "        cv2.imwrite('opticalhsv.png',rgb)\n",
    "    prvs = next\n",
    "\n",
    "cap.release()\n",
    "cv2.destroyAllWindows()\n",
    "X = np.array(X)\n",
    "XX = np.array(XX)"
   ]
  },
  {
   "cell_type": "code",
   "execution_count": 3,
   "metadata": {},
   "outputs": [],
   "source": [
    "\n",
    "\n",
    "\n",
    "\n",
    "\n",
    "\n",
    "\n",
    "\n",
    "\n",
    "\n"
   ]
  },
  {
   "cell_type": "code",
   "execution_count": 5,
   "metadata": {},
   "outputs": [
    {
     "name": "stdout",
     "output_type": "stream",
     "text": [
      "(554, 120, 160)\n",
      "(554, 120, 160)\n"
     ]
    }
   ],
   "source": [
    "print(X.shape)\n",
    "print(XX.shape)"
   ]
  },
  {
   "cell_type": "code",
   "execution_count": 6,
   "metadata": {},
   "outputs": [
    {
     "data": {
      "image/png": "[encoded data removed]",
      "text/plain": [
       "<Figure size 432x288 with 1 Axes>"
      ]
     },
     "metadata": {
      "needs_background": "light"
     },
     "output_type": "display_data"
    }
   ],
   "source": [
    "plt.imshow(X[37],'gray')\n",
    "plt.show()"
   ]
  },
  {
   "cell_type": "code",
   "execution_count": 7,
   "metadata": {},
   "outputs": [
    {
     "data": {
      "image/png": "[encoded data removed]",
      "text/plain": [
       "<Figure size 432x288 with 1 Axes>"
      ]
     },
     "metadata": {
      "needs_background": "light"
     },
     "output_type": "display_data"
    }
   ],
   "source": [
    "plt.imshow(XX[197],'gray')\n",
    "plt.show()"
   ]
  },
  {
   "cell_type": "code",
   "execution_count": 7,
   "metadata": {},
   "outputs": [],
   "source": [
    "c = XX[37] - XX[48]"
   ]
  },
  {
   "cell_type": "code",
   "execution_count": 8,
   "metadata": {},
   "outputs": [
    {
     "data": {
      "image/png": "[encoded data removed]",
      "text/plain": [
       "<Figure size 432x288 with 1 Axes>"
      ]
     },
     "metadata": {
      "needs_background": "light"
     },
     "output_type": "display_data"
    }
   ],
   "source": [
    "plt.imshow(XX[37],'gray')\n",
    "plt.show()"
   ]
  },
  {
   "cell_type": "code",
   "execution_count": 59,
   "metadata": {},
   "outputs": [
    {
     "data": {
      "text/plain": [
       "(160,)"
      ]
     },
     "execution_count": 59,
     "metadata": {},
     "output_type": "execute_result"
    }
   ],
   "source": [
    "XX[87][0].shape"
   ]
  },
  {
   "cell_type": "code",
   "execution_count": 63,
   "metadata": {},
   "outputs": [
    {
     "data": {
      "text/plain": [
       "25.696302083333332"
      ]
     },
     "execution_count": 63,
     "metadata": {},
     "output_type": "execute_result"
    }
   ],
   "source": [
    "sum(sum(XX[107]/XX[107].shape[1]))/(XX[107].shape[0])"
   ]
  },
  {
   "cell_type": "code",
   "execution_count": 65,
   "metadata": {},
   "outputs": [
    {
     "data": {
      "text/plain": [
       "9.95609375"
      ]
     },
     "execution_count": 65,
     "metadata": {},
     "output_type": "execute_result"
    }
   ],
   "source": [
    "sum(sum(XX[197]/XX[197].shape[1]))/(XX[197].shape[0])"
   ]
  },
  {
   "cell_type": "code",
   "execution_count": 84,
   "metadata": {},
   "outputs": [],
   "source": [
    "edges = filters.sobel(X[37])"
   ]
  },
  {
   "cell_type": "code",
   "execution_count": 17,
   "metadata": {},
   "outputs": [],
   "source": [
    "laplacian = cv2.Laplacian(X[37],cv2.CV_64F)"
   ]
  },
  {
   "cell_type": "code",
   "execution_count": 81,
   "metadata": {},
   "outputs": [],
   "source": [
    "def read_data(directory,count):\n",
    "    dataset = []\n",
    "    label = []\n",
    "    for root, dirs, files in os.walk(directory):\n",
    "        ext = ['.avi']\n",
    "        if not (root == directory):\n",
    "            key = root.split('\\\\')[1]\n",
    "    #             dataset[key] = []\n",
    "        c = count\n",
    "        for name in files:\n",
    "            filename, file_extension = os.path.splitext(name)\n",
    "            if file_extension not in ext:\n",
    "                continue\n",
    "            if 'd1' in name.split('_'):\n",
    "                print(key,name)\n",
    "                XX = []\n",
    "                cap = cv2.VideoCapture(directory+'/'+key+'/'+name)\n",
    "                ret, frame1 = cap.read()\n",
    "                prvs = cv2.cvtColor(frame1,cv2.COLOR_BGR2GRAY)\n",
    "                hsv = np.zeros_like(frame1)\n",
    "                hsv[...,1] = 255\n",
    "\n",
    "                while(1):\n",
    "                    ret, frame2 = cap.read()\n",
    "                    if not ret: break\n",
    "                #     frame2 = cv2.resize(frame2,(50,50))\n",
    "                    next = cv2.cvtColor(frame2,cv2.COLOR_BGR2GRAY)\n",
    "\n",
    "                    flow = cv2.calcOpticalFlowFarneback(prvs,next, None, 0.5, 3, 15, 3, 5, 1.2, 0)\n",
    "                #     print(flow.shape)\n",
    "\n",
    "                    mag, ang = cv2.cartToPolar(flow[...,0], flow[...,1])\n",
    "\n",
    "                    hsv[...,0] = ang*180/np.pi/2\n",
    "                    hsv[...,2] = cv2.normalize(mag,None,0,255,cv2.NORM_MINMAX)\n",
    "                    rgb = cv2.cvtColor(hsv,cv2.COLOR_HSV2BGR)\n",
    "                    o = cv2.cvtColor(rgb,cv2.COLOR_BGR2GRAY)\n",
    "                #     print(o.shape)\n",
    "                    XX.append(o)\n",
    "                    frame2 = cv2.Laplacian(frame2,cv2.CV_64F)\n",
    "#                     cv2.imshow('frame2',o)\n",
    "#                     k = cv2.waitKey(30) & 0xff\n",
    "#                     if k == 27:\n",
    "#                         break\n",
    "#                     elif k == ord('s'):\n",
    "#                         cv2.imwrite('opticalfb.png',frame2)\n",
    "#                         cv2.imwrite('opticalhsv.png',rgb)\n",
    "                    prvs = next\n",
    "                XX = np.array(X)\n",
    "                lXX = []\n",
    "                for i in range(len(XX)):\n",
    "                    lXX.append(cv2.Laplacian(XX[i],cv2.CV_64F))\n",
    "                lXX = np.array(lXX)\n",
    "                lXX[lXX<0]=0\n",
    "                z = []\n",
    "                for i in range(len(lXX)):\n",
    "                    z.append((i,np.mean(lXX[i]))) \n",
    "                z.sort(key=lambda x: x[1])\n",
    "                z = z[0:150]\n",
    "                zz = []\n",
    "                for i in z:\n",
    "                    zz.append(i[0])\n",
    "                f = []\n",
    "                for i in range(len(lXX)):\n",
    "                    if i in zz:\n",
    "                        f.append(cv2.resize(lXX[i],(50,50)))\n",
    "                f = np.array(f)\n",
    "                f = f.flatten()\n",
    "                dataset.append(f)\n",
    "                label.append(key)\n",
    "                c -=1\n",
    "            if c == 0:\n",
    "                break\n",
    "    return dataset,label"
   ]
  },
  {
   "cell_type": "code",
   "execution_count": 82,
   "metadata": {
    "scrolled": true
   },
   "outputs": [
    {
     "name": "stdout",
     "output_type": "stream",
     "text": [
      "boxing person01_boxing_d1_uncomp.avi\n",
      "boxing person02_boxing_d1_uncomp.avi\n",
      "boxing person03_boxing_d1_uncomp.avi\n",
      "boxing person04_boxing_d1_uncomp.avi\n",
      "boxing person05_boxing_d1_uncomp.avi\n",
      "boxing person06_boxing_d1_uncomp.avi\n",
      "boxing person07_boxing_d1_uncomp.avi\n",
      "boxing person08_boxing_d1_uncomp.avi\n",
      "boxing person09_boxing_d1_uncomp.avi\n",
      "boxing person10_boxing_d1_uncomp.avi\n",
      "boxing person11_boxing_d1_uncomp.avi\n",
      "boxing person12_boxing_d1_uncomp.avi\n",
      "boxing person13_boxing_d1_uncomp.avi\n",
      "boxing person14_boxing_d1_uncomp.avi\n",
      "boxing person15_boxing_d1_uncomp.avi\n",
      "boxing person16_boxing_d1_uncomp.avi\n",
      "boxing person17_boxing_d1_uncomp.avi\n",
      "boxing person18_boxing_d1_uncomp.avi\n",
      "handclapping person01_handclapping_d1_uncomp.avi\n",
      "handclapping person02_handclapping_d1_uncomp.avi\n",
      "handclapping person03_handclapping_d1_uncomp.avi\n",
      "handclapping person04_handclapping_d1_uncomp.avi\n",
      "handclapping person05_handclapping_d1_uncomp.avi\n",
      "handclapping person06_handclapping_d1_uncomp.avi\n",
      "handclapping person07_handclapping_d1_uncomp.avi\n",
      "handclapping person08_handclapping_d1_uncomp.avi\n",
      "handclapping person09_handclapping_d1_uncomp.avi\n",
      "handclapping person10_handclapping_d1_uncomp.avi\n",
      "handclapping person11_handclapping_d1_uncomp.avi\n",
      "handclapping person12_handclapping_d1_uncomp.avi\n",
      "handclapping person13_handclapping_d1_uncomp.avi\n",
      "handclapping person14_handclapping_d1_uncomp.avi\n",
      "handclapping person15_handclapping_d1_uncomp.avi\n",
      "handclapping person16_handclapping_d1_uncomp.avi\n",
      "handclapping person17_handclapping_d1_uncomp.avi\n",
      "handclapping person18_handclapping_d1_uncomp.avi\n",
      "handwaving person01_handwaving_d1_uncomp.avi\n",
      "handwaving person02_handwaving_d1_uncomp.avi\n",
      "handwaving person03_handwaving_d1_uncomp.avi\n",
      "handwaving person04_handwaving_d1_uncomp.avi\n",
      "handwaving person05_handwaving_d1_uncomp.avi\n",
      "handwaving person06_handwaving_d1_uncomp.avi\n",
      "handwaving person07_handwaving_d1_uncomp.avi\n",
      "handwaving person08_handwaving_d1_uncomp.avi\n",
      "handwaving person09_handwaving_d1_uncomp.avi\n",
      "handwaving person10_handwaving_d1_uncomp.avi\n",
      "handwaving person11_handwaving_d1_uncomp.avi\n",
      "handwaving person12_handwaving_d1_uncomp.avi\n",
      "handwaving person13_handwaving_d1_uncomp.avi\n",
      "handwaving person14_handwaving_d1_uncomp.avi\n",
      "handwaving person15_handwaving_d1_uncomp.avi\n",
      "handwaving person16_handwaving_d1_uncomp.avi\n",
      "handwaving person17_handwaving_d1_uncomp.avi\n",
      "handwaving person18_handwaving_d1_uncomp.avi\n",
      "running person01_running_d1_uncomp.avi\n",
      "running person02_running_d1_uncomp.avi\n",
      "running person03_running_d1_uncomp.avi\n",
      "running person04_running_d1_uncomp.avi\n",
      "running person05_running_d1_uncomp.avi\n",
      "running person06_running_d1_uncomp.avi\n",
      "running person07_running_d1_uncomp.avi\n",
      "running person08_running_d1_uncomp.avi\n",
      "running person09_running_d1_uncomp.avi\n",
      "running person10_running_d1_uncomp.avi\n",
      "running person11_running_d1_uncomp.avi\n",
      "running person12_running_d1_uncomp.avi\n",
      "running person13_running_d1_uncomp.avi\n",
      "running person14_running_d1_uncomp.avi\n",
      "running person15_running_d1_uncomp.avi\n",
      "running person16_running_d1_uncomp.avi\n",
      "running person17_running_d1_uncomp.avi\n",
      "running person18_running_d1_uncomp.avi\n",
      "walking person01_walking_d1_uncomp.avi\n",
      "walking person02_walking_d1_uncomp.avi\n",
      "walking person03_walking_d1_uncomp.avi\n",
      "walking person04_walking_d1_uncomp.avi\n",
      "walking person05_walking_d1_uncomp.avi\n",
      "walking person06_walking_d1_uncomp.avi\n",
      "walking person07_walking_d1_uncomp.avi\n",
      "walking person08_walking_d1_uncomp.avi\n",
      "walking person09_walking_d1_uncomp.avi\n",
      "walking person10_walking_d1_uncomp.avi\n",
      "walking person11_walking_d1_uncomp.avi\n",
      "walking person12_walking_d1_uncomp.avi\n",
      "walking person13_walking_d1_uncomp.avi\n",
      "walking person14_walking_d1_uncomp.avi\n",
      "walking person15_walking_d1_uncomp.avi\n",
      "walking person16_walking_d1_uncomp.avi\n",
      "walking person17_walking_d1_uncomp.avi\n",
      "walking person18_walking_d1_uncomp.avi\n"
     ]
    }
   ],
   "source": [
    "directory = './KTHDataset'\n",
    "count = 18\n",
    "dataset,label = read_data(directory,count)"
   ]
  },
  {
   "cell_type": "code",
   "execution_count": 83,
   "metadata": {},
   "outputs": [
    {
     "name": "stdout",
     "output_type": "stream",
     "text": [
      "90\n",
      "90\n"
     ]
    }
   ],
   "source": [
    "print(len(dataset))\n",
    "print(len(label))"
   ]
  },
  {
   "cell_type": "code",
   "execution_count": 91,
   "metadata": {},
   "outputs": [],
   "source": [
    "for i in range(len(label)):\n",
    "    dataset[i] = np.append(dataset[i],label[i])"
   ]
  },
  {
   "cell_type": "code",
   "execution_count": null,
   "metadata": {},
   "outputs": [],
   "source": [
    "df = pd.DataFrame(dataset)"
   ]
  },
  {
   "cell_type": "code",
   "execution_count": null,
   "metadata": {},
   "outputs": [],
   "source": [
    "df.to_csv(\"video_data.csv\", sep='\\t',index = None)"
   ]
  },
  {
   "cell_type": "code",
   "execution_count": null,
   "metadata": {},
   "outputs": [],
   "source": [
    "df.head()"
   ]
  },
  {
   "cell_type": "code",
   "execution_count": 69,
   "metadata": {},
   "outputs": [],
   "source": [
    "lX = []\n",
    "lXX = []\n",
    "for i in range(len(X)):\n",
    "    lX.append(cv2.Laplacian(X[i],cv2.CV_64F))\n",
    "    lXX.append(cv2.Laplacian(XX[i],cv2.CV_64F))\n",
    "lX = np.array(lX)\n",
    "lXX = np.array(lXX)"
   ]
  },
  {
   "cell_type": "code",
   "execution_count": 73,
   "metadata": {},
   "outputs": [],
   "source": [
    "lXX[lXX<0]=0"
   ]
  },
  {
   "cell_type": "code",
   "execution_count": 6,
   "metadata": {},
   "outputs": [],
   "source": [
    "# for i in range(len(X)):\n",
    "#     for j in range(len(X[i])):\n",
    "#         for k in range(len(X[i][j])):\n",
    "#             if lX[i][j][k] < 0:\n",
    "#                 lX[i][j][k] = 0\n",
    "#             if lXX[i][j][k] < 0:\n",
    "#                 lXX[i][j][k] = 0"
   ]
  },
  {
   "cell_type": "code",
   "execution_count": 41,
   "metadata": {},
   "outputs": [],
   "source": [
    "z = []\n",
    "for i in range(len(lXX)):\n",
    "    z.append((i,np.mean(lXX[i])))   "
   ]
  },
  {
   "cell_type": "code",
   "execution_count": 43,
   "metadata": {},
   "outputs": [],
   "source": [
    "z.sort(key=lambda x: x[1])"
   ]
  },
  {
   "cell_type": "code",
   "execution_count": 47,
   "metadata": {},
   "outputs": [],
   "source": [
    "z = z[0:150]"
   ]
  },
  {
   "cell_type": "code",
   "execution_count": 57,
   "metadata": {},
   "outputs": [],
   "source": [
    "zz = []\n",
    "for i in z:\n",
    "    zz.append(i[0])"
   ]
  },
  {
   "cell_type": "code",
   "execution_count": null,
   "metadata": {},
   "outputs": [],
   "source": []
  },
  {
   "cell_type": "code",
   "execution_count": 60,
   "metadata": {},
   "outputs": [
    {
     "name": "stdout",
     "output_type": "stream",
     "text": [
      "[0, 3, 4, 5, 11, 13, 16, 17, 18, 25, 27, 30, 31, 41, 42, 43, 44, 45, 46, 47, 54, 55, 59, 60, 61, 64, 69, 70, 71, 154, 155, 156, 157, 159, 160, 161, 162, 163, 164, 165, 166, 167, 168, 169, 173, 175, 176, 177, 178, 179, 180, 181, 182, 183, 191, 192, 193, 194, 195, 196, 197, 204, 205, 206, 207, 208, 209, 210, 211, 212, 215, 216, 217, 218, 219, 220, 221, 329, 330, 331, 332, 336, 337, 338, 341, 343, 344, 345, 355, 357, 358, 359, 360, 370, 373, 386, 387, 390, 394, 396, 397, 398, 482, 483, 484, 485, 486, 487, 489, 490, 492, 493, 494, 495, 496, 505, 506, 507, 508, 509, 510, 517, 518, 519, 520, 521, 522, 523, 524, 525, 526, 533, 534, 535, 536, 537, 538, 539, 540, 541, 542, 543, 544, 545, 546, 547, 548, 549, 550, 551]\n"
     ]
    }
   ],
   "source": [
    "print(zz)"
   ]
  },
  {
   "cell_type": "code",
   "execution_count": 49,
   "metadata": {},
   "outputs": [],
   "source": [
    "f = []\n",
    "for i in range(len(lXX)):\n",
    "    if i in zz:\n",
    "        f.append(cv2.resize(lXX[i],(50,50)))"
   ]
  },
  {
   "cell_type": "code",
   "execution_count": 51,
   "metadata": {},
   "outputs": [],
   "source": [
    "f = np.array(f)"
   ]
  },
  {
   "cell_type": "code",
   "execution_count": 52,
   "metadata": {},
   "outputs": [],
   "source": [
    "f = f.flatten()"
   ]
  },
  {
   "cell_type": "code",
   "execution_count": 53,
   "metadata": {},
   "outputs": [
    {
     "data": {
      "text/plain": [
       "(375000,)"
      ]
     },
     "execution_count": 53,
     "metadata": {},
     "output_type": "execute_result"
    }
   ],
   "source": [
    "f.shape"
   ]
  },
  {
   "cell_type": "code",
   "execution_count": 38,
   "metadata": {},
   "outputs": [
    {
     "data": {
      "text/plain": [
       "375000"
      ]
     },
     "execution_count": 38,
     "metadata": {},
     "output_type": "execute_result"
    }
   ],
   "source": [
    "150*50*50"
   ]
  },
  {
   "cell_type": "code",
   "execution_count": 61,
   "metadata": {},
   "outputs": [
    {
     "data": {
      "text/plain": [
       "array([0.  , 0.  , 0.  , ..., 4.25, 2.92, 1.29])"
      ]
     },
     "execution_count": 61,
     "metadata": {},
     "output_type": "execute_result"
    }
   ],
   "source": [
    "f"
   ]
  },
  {
   "cell_type": "code",
   "execution_count": 115,
   "metadata": {},
   "outputs": [],
   "source": [
    "winSize = (20,20)\n",
    "blockSize = (10,10)\n",
    "blockStride = (5,5)\n",
    "cellSize = (10,10)\n",
    "nbins = 9\n",
    "derivAperture = 1\n",
    "winSigma = -1.\n",
    "histogramNormType = 0\n",
    "L2HysThreshold = 0.2\n",
    "gammaCorrection = 1\n",
    "nlevels = 64\n",
    "useSignedGradients = True\n",
    " \n",
    "hog = cv2.HOGDescriptor(winSize,blockSize,blockStride,cellSize,nbins,derivAperture,winSigma,histogramNormType,L2HysThreshold,gammaCorrection,nlevels, useSignedGradients)"
   ]
  },
  {
   "cell_type": "code",
   "execution_count": 116,
   "metadata": {},
   "outputs": [],
   "source": [
    "descriptor = hog.compute(XX[37])"
   ]
  },
  {
   "cell_type": "code",
   "execution_count": 124,
   "metadata": {},
   "outputs": [],
   "source": [
    "winSize = (64,64)\n",
    "blockSize = (16,16)\n",
    "blockStride = (8,8)\n",
    "cellSize = (8,8)\n",
    "nbins = 9\n",
    "derivAperture = 1\n",
    "winSigma = 4.\n",
    "histogramNormType = 0\n",
    "L2HysThreshold = 2.0000000000000001e-01\n",
    "gammaCorrection = 0\n",
    "nlevels = 64\n",
    "hog = cv2.HOGDescriptor(winSize,blockSize,blockStride,cellSize,nbins,derivAperture,winSigma,\n",
    "                        histogramNormType,L2HysThreshold,gammaCorrection,nlevels)"
   ]
  },
  {
   "cell_type": "code",
   "execution_count": 126,
   "metadata": {},
   "outputs": [],
   "source": [
    "winStride = (8,8)\n",
    "padding = (8,8)\n",
    "locations = ((10,20),)\n",
    "descriptor = hog.compute(XX[37],winStride,padding,locations)"
   ]
  },
  {
   "cell_type": "code",
   "execution_count": 129,
   "metadata": {},
   "outputs": [
    {
     "data": {
      "text/plain": [
       "array([[0.15314218],\n",
       "       [0.05923971],\n",
       "       [0.05867052],\n",
       "       ...,\n",
       "       [0.24580045],\n",
       "       [0.24580045],\n",
       "       [0.10020102]], dtype=float32)"
      ]
     },
     "execution_count": 129,
     "metadata": {},
     "output_type": "execute_result"
    }
   ],
   "source": [
    "descriptor"
   ]
  },
  {
   "cell_type": "code",
   "execution_count": 36,
   "metadata": {},
   "outputs": [
    {
     "data": {
      "text/plain": [
       "8586"
      ]
     },
     "execution_count": 36,
     "metadata": {},
     "output_type": "execute_result"
    }
   ],
   "source": [
    "np.count_nonzero(lXX[75])"
   ]
  },
  {
   "cell_type": "code",
   "execution_count": 35,
   "metadata": {},
   "outputs": [
    {
     "data": {
      "text/plain": [
       "4612"
      ]
     },
     "execution_count": 35,
     "metadata": {},
     "output_type": "execute_result"
    }
   ],
   "source": [
    "np.count_nonzero(lXX[18])"
   ]
  },
  {
   "cell_type": "code",
   "execution_count": 38,
   "metadata": {
    "scrolled": true
   },
   "outputs": [
    {
     "data": {
      "text/plain": [
       "2.2769791666666666"
      ]
     },
     "execution_count": 38,
     "metadata": {},
     "output_type": "execute_result"
    }
   ],
   "source": [
    "np.mean(lXX[75])"
   ]
  },
  {
   "cell_type": "code",
   "execution_count": null,
   "metadata": {},
   "outputs": [],
   "source": []
  },
  {
   "cell_type": "code",
   "execution_count": 37,
   "metadata": {},
   "outputs": [
    {
     "data": {
      "text/plain": [
       "0.68453125"
      ]
     },
     "execution_count": 37,
     "metadata": {},
     "output_type": "execute_result"
    }
   ],
   "source": [
    "np.mean(lXX[18])"
   ]
  },
  {
   "cell_type": "code",
   "execution_count": 50,
   "metadata": {},
   "outputs": [],
   "source": [
    "z = []\n",
    "for i in range(len(lXX)):\n",
    "    if np.mean(lXX[i]) < 1:\n",
    "        z.append(i)"
   ]
  },
  {
   "cell_type": "code",
   "execution_count": 54,
   "metadata": {},
   "outputs": [
    {
     "data": {
      "text/plain": [
       "482500"
      ]
     },
     "execution_count": 54,
     "metadata": {},
     "output_type": "execute_result"
    }
   ],
   "source": [
    "50*50*193"
   ]
  },
  {
   "cell_type": "code",
   "execution_count": 8,
   "metadata": {
    "scrolled": true
   },
   "outputs": [
    {
     "data": {
      "image/png": "[encoded data removed]",
      "text/plain": [
       "<Figure size 432x288 with 1 Axes>"
      ]
     },
     "metadata": {
      "needs_background": "light"
     },
     "output_type": "display_data"
    }
   ],
   "source": [
    "plt.imshow(cv2.resize(lXX[37],(50,50)),'gray')\n",
    "plt.show()"
   ]
  },
  {
   "cell_type": "code",
   "execution_count": 72,
   "metadata": {},
   "outputs": [],
   "source": [
    "c = np.copy(XX)"
   ]
  },
  {
   "cell_type": "code",
   "execution_count": 73,
   "metadata": {},
   "outputs": [],
   "source": [
    "for i in range(len(c)-1):\n",
    "    c[i] = c[i+1]-c[i]"
   ]
  },
  {
   "cell_type": "code",
   "execution_count": 75,
   "metadata": {},
   "outputs": [
    {
     "data": {
      "text/plain": [
       "array([  0,   0, 255,   0,   0, 255, 254, 255, 254, 254, 254, 254, 254,\n",
       "       254, 253, 254, 254, 254, 254, 254, 254, 254, 255, 255, 255, 255,\n",
       "       255,   0,   0,   0,   0, 255, 255, 253, 254, 255,   1,   1,   1,\n",
       "         2,   2,   2,   1,   1,   0,   0,   0,   0,   0,   0,   1,   1,\n",
       "         2,   2,   8,  60,  77,  63,  36,  18,   7, 252, 249, 248, 252,\n",
       "       250, 250, 251, 252,   5,   0, 255,   3,   5,   6,   5,   5,   6,\n",
       "         6,   8,  10,  11,  14,  14,  12,  15,  17,  15,  10,   3,   2,\n",
       "         1, 255, 251, 250, 242, 229, 164, 138, 142, 185, 243, 247, 249,\n",
       "       249, 248, 243, 243, 243, 245, 245, 247, 246, 247, 247, 248, 248,\n",
       "       250, 250, 251, 252, 252, 252, 252, 252, 252, 252, 250, 249, 249,\n",
       "       248, 247, 246, 245, 244, 245, 245, 246, 247, 249, 250, 251, 254,\n",
       "         0,   2,   3,   5,   3,   3,   1,   1,   2,   0, 254, 253, 252,\n",
       "       251, 251, 252, 253], dtype=uint8)"
      ]
     },
     "execution_count": 75,
     "metadata": {},
     "output_type": "execute_result"
    }
   ],
   "source": []
  },
  {
   "cell_type": "code",
   "execution_count": 76,
   "metadata": {},
   "outputs": [],
   "source": [
    "z = []"
   ]
  },
  {
   "cell_type": "code",
   "execution_count": 77,
   "metadata": {},
   "outputs": [],
   "source": [
    "for i in range(len(c)):\n",
    "    if sum(sum(c[i]/c[i].shape[1]))/(c[i].shape[0]) > 20:\n",
    "        z.append(i)"
   ]
  },
  {
   "cell_type": "code",
   "execution_count": 79,
   "metadata": {},
   "outputs": [
    {
     "data": {
      "text/plain": [
       "551"
      ]
     },
     "execution_count": 79,
     "metadata": {},
     "output_type": "execute_result"
    }
   ],
   "source": [
    "len(z)"
   ]
  },
  {
   "cell_type": "code",
   "execution_count": 82,
   "metadata": {},
   "outputs": [
    {
     "data": {
      "image/png": "[encoded data removed]",
      "text/plain": [
       "<Figure size 432x288 with 1 Axes>"
      ]
     },
     "metadata": {
      "needs_background": "light"
     },
     "output_type": "display_data"
    }
   ],
   "source": [
    "plt.imshow(c[38],'gray')\n",
    "plt.show()"
   ]
  },
  {
   "cell_type": "code",
   "execution_count": 111,
   "metadata": {},
   "outputs": [],
   "source": [
    "a = [1,   1,   2,   1,   1,   2,   3,   3,   4,   4,   4,   4,   4,\n",
    "         4,   5,   4,   4,   4,   4,   4,   4,   4,   3,   3,   3,   3,\n",
    "         3,   3,   3,   3,   3,   4,   4,   5,   4,   3,   2,   2,   1,\n",
    "         1,   1,   0,   1,   1,   1,   1,   1,   1,   1,   1,   1,   2,\n",
    "         2,   2,   3,   4,   2,  23,  55,  76,  89, 103, 109, 112, 111,\n",
    "       114, 115, 116, 121, 121, 130, 133, 133, 133, 134, 135, 135, 135,\n",
    "       136, 137, 137, 137, 136, 137, 141, 141, 141, 142, 146, 148, 148,\n",
    "       148, 149, 148, 148, 148, 148, 150, 140, 128,  84,  23,  16,  12,\n",
    "         9,   9,  13,  13,  13,  12,  12,  10,  11,  10,   9,   9,   9,\n",
    "         7,   7,   6,   5,   5,   5,   5,   5,   5,   5,   7,   8,   8,\n",
    "         9,  10,  11,  12,  13,  12,  12,  11,  10,   9,   8,   7,   5,\n",
    "         3,   2,   1,   0,   2,   3,   5,   5,   4,   6,   7,   7,   8,\n",
    "         9,   9,   9,   8] * 200\n",
    "a = np.array(a)\n",
    "a = a.reshape((int(a.shape[0]/200), 200))"
   ]
  },
  {
   "cell_type": "code",
   "execution_count": 112,
   "metadata": {},
   "outputs": [
    {
     "data": {
      "image/png": "[encoded data removed]",
      "text/plain": [
       "<Figure size 432x288 with 1 Axes>"
      ]
     },
     "metadata": {
      "needs_background": "light"
     },
     "output_type": "display_data"
    }
   ],
   "source": [
    "plt.imshow(a,'gray')\n",
    "plt.show()"
   ]
  },
  {
   "cell_type": "code",
   "execution_count": 3,
   "metadata": {},
   "outputs": [],
   "source": [
    "import sys\n",
    "import cv2\n",
    "\n",
    "hog = cv2.HOGDescriptor()\n",
    "hog.setSVMDetector(cv2.HOGDescriptor_getDefaultPeopleDetector())\n",
    "hogParams = {'winStride': (8, 8), 'padding': (32, 32), 'scale': 1.05}\n",
    "\n",
    "video = cv2.VideoCapture(\"test.avi\")\n",
    "x = []\n",
    "while True:\n",
    "    ret, frame = video.read()\n",
    "    if not ret:\n",
    "        break\n",
    "\n",
    "    result = hog.detectMultiScale(frame, **hogParams)\n",
    "    x.append(result)"
   ]
  },
  {
   "cell_type": "code",
   "execution_count": 6,
   "metadata": {},
   "outputs": [],
   "source": [
    "x = np.array(x)"
   ]
  },
  {
   "cell_type": "code",
   "execution_count": 7,
   "metadata": {},
   "outputs": [
    {
     "data": {
      "text/plain": [
       "(555, 2)"
      ]
     },
     "execution_count": 7,
     "metadata": {},
     "output_type": "execute_result"
    }
   ],
   "source": [
    "x.shape"
   ]
  },
  {
   "cell_type": "code",
   "execution_count": 8,
   "metadata": {},
   "outputs": [
    {
     "data": {
      "text/plain": [
       "array([(), (), (), ..., (), (), ()], dtype=object)"
      ]
     },
     "execution_count": 8,
     "metadata": {},
     "output_type": "execute_result"
    }
   ],
   "source": [
    "x.flatten()"
   ]
  },
  {
   "cell_type": "code",
   "execution_count": 12,
   "metadata": {},
   "outputs": [
    {
     "data": {
      "text/plain": [
       "array([(), (), (), ..., (), (), ()], dtype=object)"
      ]
     },
     "execution_count": 12,
     "metadata": {},
     "output_type": "execute_result"
    }
   ],
   "source": [
    "x.ravel()"
   ]
  },
  {
   "cell_type": "code",
   "execution_count": 13,
   "metadata": {},
   "outputs": [],
   "source": [
    "A = np.squeeze(np.asarray(x))"
   ]
  },
  {
   "cell_type": "code",
   "execution_count": 14,
   "metadata": {},
   "outputs": [
    {
     "data": {
      "text/plain": [
       "array([[(), ()],\n",
       "       [(), ()],\n",
       "       [(), ()],\n",
       "       ...,\n",
       "       [(), ()],\n",
       "       [(), ()],\n",
       "       [(), ()]], dtype=object)"
      ]
     },
     "execution_count": 14,
     "metadata": {},
     "output_type": "execute_result"
    }
   ],
   "source": [
    "A"
   ]
  },
  {
   "cell_type": "code",
   "execution_count": null,
   "metadata": {},
   "outputs": [],
   "source": []
  }
 ],
 "metadata": {
  "kernelspec": {
   "display_name": "Python 3",
   "language": "python",
   "name": "python3"
  },
  "language_info": {
   "codemirror_mode": {
    "name": "ipython",
    "version": 3
   },
   "file_extension": ".py",
   "mimetype": "text/x-python",
   "name": "python",
   "nbconvert_exporter": "python",
   "pygments_lexer": "ipython3",
   "version": "3.7.2"
  }
 },
 "nbformat": 4,
 "nbformat_minor": 2
}
